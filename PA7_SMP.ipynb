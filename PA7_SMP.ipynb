{
 "cells": [
  {
   "cell_type": "markdown",
   "metadata": {},
   "source": [
    "# Programming Assignment 7\n",
    "---\n",
    "**Author:** Sheridan Payne  \n",
    "**Version:** 1.0  \n",
    "**Semester:** Fall 2020  \n",
    "\n",
    "This *notebook* contains my solution to **Programming Assignment 7**\n",
    "\n",
    "- Problem 1: Five-letter word 3-permutations\n",
    "- Problem 2: Mathematical words to expression"
   ]
  },
  {
   "cell_type": "markdown",
   "metadata": {},
   "source": [
    "### Problem 1"
   ]
  },
  {
   "cell_type": "code",
   "execution_count": 1,
   "metadata": {},
   "outputs": [],
   "source": [
    "import itertools as it\n",
    "import functools\n",
    "import operator"
   ]
  },
  {
   "cell_type": "code",
   "execution_count": 2,
   "metadata": {},
   "outputs": [
    {
     "name": "stdout",
     "output_type": "stream",
     "text": [
      "Enter a five letter word: bathe\n",
      "bat bah bae bta bth bte bha bht bhe bea bet beh abt abh abe atb ath ate ahb aht ahe aeb aet aeh tba tbh tbe tab tah tae thb tha the teb tea teh hba hbt hbe hab hat hae htb hta hte heb hea het eba ebt ebh eab eat eah etb eta eth ehb eha eht \n",
      "\n",
      "Enter a five letter word: baits\n",
      "bai bat bas bia bit bis bta bti bts bsa bsi bst abi abt abs aib ait ais atb ati ats asb asi ast iba ibt ibs iab iat ias itb ita its isb isa ist tba tbi tbs tab tai tas tib tia tis tsb tsa tsi sba sbi sbt sab sai sat sib sia sit stb sta sti \n",
      "\n",
      "Enter a five letter word: bat\n",
      "Word must be five letters long!\n",
      "Enter a five letter word: house\n",
      "hou hos hoe huo hus hue hso hsu hse heo heu hes ohu ohs ohe ouh ous oue osh osu ose oeh oeu oes uho uhs uhe uoh uos uoe ush uso use ueh ueo ues sho shu she soh sou soe suh suo sue seh seo seu eho ehu ehs eoh eou eos euh euo eus esh eso esu \n",
      "\n",
      "Enter a five letter word: 0\n"
     ]
    }
   ],
   "source": [
    "a=0\n",
    "while a == 0:\n",
    "    word = input(\"Enter a five letter word: \")\n",
    "    if word == '0':\n",
    "        a=1\n",
    "    elif len(word) != 5:\n",
    "        print(\"Word must be five letters long!\")\n",
    "    else:\n",
    "        for i in list(it.permutations(word,3)):\n",
    "            print(functools.reduce(operator.add,i),end=' ')\n",
    "        print(\"\\n\")"
   ]
  },
  {
   "cell_type": "markdown",
   "metadata": {},
   "source": [
    "### Problem 2"
   ]
  },
  {
   "cell_type": "code",
   "execution_count": 3,
   "metadata": {},
   "outputs": [],
   "source": [
    "math_word = {\n",
    "    'zero': 0,\n",
    "    'one': 1,\n",
    "    'two': 2,\n",
    "    'three': 3,\n",
    "    'four': 4,\n",
    "    'five': 5,\n",
    "    'six': 6,\n",
    "    'seven': 7,\n",
    "    'eight': 8,\n",
    "    'nine': 9,\n",
    "    'plus': '+',\n",
    "    'minus': '-',\n",
    "    'times': 'x',\n",
    "    'divided by':'÷'\n",
    "}"
   ]
  },
  {
   "cell_type": "code",
   "execution_count": 4,
   "metadata": {},
   "outputs": [],
   "source": [
    "def math_equation(expression):\n",
    "    if expression.split()[1]=='+':\n",
    "        return int(expression.split()[0]) + int(expression.split()[2])\n",
    "    elif expression.split()[1]=='-':\n",
    "        return int(expression.split()[0]) - int(expression.split()[2])\n",
    "    elif expression.split()[1]=='x':\n",
    "        return int(expression.split()[0]) * int(expression.split()[2])\n",
    "    elif expression.split()[1]=='÷':\n",
    "        return float(int(expression.split()[0]) / int(expression.split()[2]))"
   ]
  },
  {
   "cell_type": "code",
   "execution_count": 6,
   "metadata": {},
   "outputs": [
    {
     "name": "stdout",
     "output_type": "stream",
     "text": [
      "Enter a simple arithmetic expression in words: five times seven\n",
      "5 x 7 = 35\n",
      "\n",
      "Enter a simple arithmetic expression in words: two minus one\n",
      "2 - 1 = 1\n",
      "\n",
      "Enter a simple arithmetic expression in words: three plus seven\n",
      "3 + 7 = 10\n",
      "\n",
      "Enter a simple arithmetic expression in words: eight divided by two\n",
      "8 ÷ 2 = 4.0\n",
      "\n",
      "Enter a simple arithmetic expression in words: seven greater than eight\n",
      "I cannot evaluate this expression!\n",
      "\n",
      "Enter a simple arithmetic expression in words: 0\n",
      "\n"
     ]
    }
   ],
   "source": [
    "a=0\n",
    "while a==0:\n",
    "    math_expression = input(\"Enter a simple arithmetic expression in words: \")\n",
    "    \n",
    "    if math_expression == '0':\n",
    "        a=1\n",
    "    else:\n",
    "        for key in math_word:\n",
    "            if key in math_expression:\n",
    "                math_expression = math_expression.replace(key,str(math_word[key]))\n",
    "        if math_equation(math_expression) == None:\n",
    "            print('I cannot evaluate this expression!')\n",
    "        else:\n",
    "            print(math_expression,'=',math_equation(math_expression))\n",
    "    print()"
   ]
  }
 ],
 "metadata": {
  "kernelspec": {
   "display_name": "Python 3",
   "language": "python",
   "name": "python3"
  },
  "language_info": {
   "codemirror_mode": {
    "name": "ipython",
    "version": 3
   },
   "file_extension": ".py",
   "mimetype": "text/x-python",
   "name": "python",
   "nbconvert_exporter": "python",
   "pygments_lexer": "ipython3",
   "version": "3.8.3"
  }
 },
 "nbformat": 4,
 "nbformat_minor": 4
}
